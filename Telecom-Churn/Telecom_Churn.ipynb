{
 "cells": [
  {
   "cell_type": "markdown",
   "metadata": {},
   "source": [
    "In that case study we will try several various models and compare their performance. Let's go!"
   ]
  },
  {
   "cell_type": "code",
   "execution_count": 1,
   "metadata": {},
   "outputs": [],
   "source": [
    "# Importing the libraries\n",
    "import pandas as pd\n",
    "import numpy as np\n",
    "import seaborn as sns\n",
    "import matplotlib.pyplot as plt\n",
    "%matplotlib inline\n",
    "\n",
    "# Importing the dataset\n",
    "df = pd.read_csv('telecom_churn.csv')"
   ]
  },
  {
   "cell_type": "markdown",
   "metadata": {},
   "source": [
    "# EDA part"
   ]
  },
  {
   "cell_type": "code",
   "execution_count": 2,
   "metadata": {},
   "outputs": [
    {
     "data": {
      "text/html": [
       "<div>\n",
       "<style scoped>\n",
       "    .dataframe tbody tr th:only-of-type {\n",
       "        vertical-align: middle;\n",
       "    }\n",
       "\n",
       "    .dataframe tbody tr th {\n",
       "        vertical-align: top;\n",
       "    }\n",
       "\n",
       "    .dataframe thead th {\n",
       "        text-align: right;\n",
       "    }\n",
       "</style>\n",
       "<table border=\"1\" class=\"dataframe\">\n",
       "  <thead>\n",
       "    <tr style=\"text-align: right;\">\n",
       "      <th></th>\n",
       "      <th>State</th>\n",
       "      <th>Account length</th>\n",
       "      <th>Area code</th>\n",
       "      <th>International plan</th>\n",
       "      <th>Voice mail plan</th>\n",
       "      <th>Number vmail messages</th>\n",
       "      <th>Total day minutes</th>\n",
       "      <th>Total day calls</th>\n",
       "      <th>Total day charge</th>\n",
       "      <th>Total eve minutes</th>\n",
       "      <th>Total eve calls</th>\n",
       "      <th>Total eve charge</th>\n",
       "      <th>Total night minutes</th>\n",
       "      <th>Total night calls</th>\n",
       "      <th>Total night charge</th>\n",
       "      <th>Total intl minutes</th>\n",
       "      <th>Total intl calls</th>\n",
       "      <th>Total intl charge</th>\n",
       "      <th>Customer service calls</th>\n",
       "      <th>Churn</th>\n",
       "    </tr>\n",
       "  </thead>\n",
       "  <tbody>\n",
       "    <tr>\n",
       "      <th>0</th>\n",
       "      <td>KS</td>\n",
       "      <td>128</td>\n",
       "      <td>415</td>\n",
       "      <td>No</td>\n",
       "      <td>Yes</td>\n",
       "      <td>25</td>\n",
       "      <td>265.1</td>\n",
       "      <td>110</td>\n",
       "      <td>45.07</td>\n",
       "      <td>197.4</td>\n",
       "      <td>99</td>\n",
       "      <td>16.78</td>\n",
       "      <td>244.7</td>\n",
       "      <td>91</td>\n",
       "      <td>11.01</td>\n",
       "      <td>10.0</td>\n",
       "      <td>3</td>\n",
       "      <td>2.70</td>\n",
       "      <td>1</td>\n",
       "      <td>False</td>\n",
       "    </tr>\n",
       "    <tr>\n",
       "      <th>1</th>\n",
       "      <td>OH</td>\n",
       "      <td>107</td>\n",
       "      <td>415</td>\n",
       "      <td>No</td>\n",
       "      <td>Yes</td>\n",
       "      <td>26</td>\n",
       "      <td>161.6</td>\n",
       "      <td>123</td>\n",
       "      <td>27.47</td>\n",
       "      <td>195.5</td>\n",
       "      <td>103</td>\n",
       "      <td>16.62</td>\n",
       "      <td>254.4</td>\n",
       "      <td>103</td>\n",
       "      <td>11.45</td>\n",
       "      <td>13.7</td>\n",
       "      <td>3</td>\n",
       "      <td>3.70</td>\n",
       "      <td>1</td>\n",
       "      <td>False</td>\n",
       "    </tr>\n",
       "    <tr>\n",
       "      <th>2</th>\n",
       "      <td>NJ</td>\n",
       "      <td>137</td>\n",
       "      <td>415</td>\n",
       "      <td>No</td>\n",
       "      <td>No</td>\n",
       "      <td>0</td>\n",
       "      <td>243.4</td>\n",
       "      <td>114</td>\n",
       "      <td>41.38</td>\n",
       "      <td>121.2</td>\n",
       "      <td>110</td>\n",
       "      <td>10.30</td>\n",
       "      <td>162.6</td>\n",
       "      <td>104</td>\n",
       "      <td>7.32</td>\n",
       "      <td>12.2</td>\n",
       "      <td>5</td>\n",
       "      <td>3.29</td>\n",
       "      <td>0</td>\n",
       "      <td>False</td>\n",
       "    </tr>\n",
       "    <tr>\n",
       "      <th>3</th>\n",
       "      <td>OH</td>\n",
       "      <td>84</td>\n",
       "      <td>408</td>\n",
       "      <td>Yes</td>\n",
       "      <td>No</td>\n",
       "      <td>0</td>\n",
       "      <td>299.4</td>\n",
       "      <td>71</td>\n",
       "      <td>50.90</td>\n",
       "      <td>61.9</td>\n",
       "      <td>88</td>\n",
       "      <td>5.26</td>\n",
       "      <td>196.9</td>\n",
       "      <td>89</td>\n",
       "      <td>8.86</td>\n",
       "      <td>6.6</td>\n",
       "      <td>7</td>\n",
       "      <td>1.78</td>\n",
       "      <td>2</td>\n",
       "      <td>False</td>\n",
       "    </tr>\n",
       "    <tr>\n",
       "      <th>4</th>\n",
       "      <td>OK</td>\n",
       "      <td>75</td>\n",
       "      <td>415</td>\n",
       "      <td>Yes</td>\n",
       "      <td>No</td>\n",
       "      <td>0</td>\n",
       "      <td>166.7</td>\n",
       "      <td>113</td>\n",
       "      <td>28.34</td>\n",
       "      <td>148.3</td>\n",
       "      <td>122</td>\n",
       "      <td>12.61</td>\n",
       "      <td>186.9</td>\n",
       "      <td>121</td>\n",
       "      <td>8.41</td>\n",
       "      <td>10.1</td>\n",
       "      <td>3</td>\n",
       "      <td>2.73</td>\n",
       "      <td>3</td>\n",
       "      <td>False</td>\n",
       "    </tr>\n",
       "  </tbody>\n",
       "</table>\n",
       "</div>"
      ],
      "text/plain": [
       "  State  Account length  Area code International plan Voice mail plan  \\\n",
       "0    KS             128        415                 No             Yes   \n",
       "1    OH             107        415                 No             Yes   \n",
       "2    NJ             137        415                 No              No   \n",
       "3    OH              84        408                Yes              No   \n",
       "4    OK              75        415                Yes              No   \n",
       "\n",
       "   Number vmail messages  Total day minutes  Total day calls  \\\n",
       "0                     25              265.1              110   \n",
       "1                     26              161.6              123   \n",
       "2                      0              243.4              114   \n",
       "3                      0              299.4               71   \n",
       "4                      0              166.7              113   \n",
       "\n",
       "   Total day charge  Total eve minutes  Total eve calls  Total eve charge  \\\n",
       "0             45.07              197.4               99             16.78   \n",
       "1             27.47              195.5              103             16.62   \n",
       "2             41.38              121.2              110             10.30   \n",
       "3             50.90               61.9               88              5.26   \n",
       "4             28.34              148.3              122             12.61   \n",
       "\n",
       "   Total night minutes  Total night calls  Total night charge  \\\n",
       "0                244.7                 91               11.01   \n",
       "1                254.4                103               11.45   \n",
       "2                162.6                104                7.32   \n",
       "3                196.9                 89                8.86   \n",
       "4                186.9                121                8.41   \n",
       "\n",
       "   Total intl minutes  Total intl calls  Total intl charge  \\\n",
       "0                10.0                 3               2.70   \n",
       "1                13.7                 3               3.70   \n",
       "2                12.2                 5               3.29   \n",
       "3                 6.6                 7               1.78   \n",
       "4                10.1                 3               2.73   \n",
       "\n",
       "   Customer service calls  Churn  \n",
       "0                       1  False  \n",
       "1                       1  False  \n",
       "2                       0  False  \n",
       "3                       2  False  \n",
       "4                       3  False  "
      ]
     },
     "execution_count": 2,
     "metadata": {},
     "output_type": "execute_result"
    }
   ],
   "source": [
    "df.head()"
   ]
  },
  {
   "cell_type": "code",
   "execution_count": 3,
   "metadata": {},
   "outputs": [
    {
     "data": {
      "text/plain": [
       "State                     0\n",
       "Account length            0\n",
       "Area code                 0\n",
       "International plan        0\n",
       "Voice mail plan           0\n",
       "Number vmail messages     0\n",
       "Total day minutes         0\n",
       "Total day calls           0\n",
       "Total day charge          0\n",
       "Total eve minutes         0\n",
       "Total eve calls           0\n",
       "Total eve charge          0\n",
       "Total night minutes       0\n",
       "Total night calls         0\n",
       "Total night charge        0\n",
       "Total intl minutes        0\n",
       "Total intl calls          0\n",
       "Total intl charge         0\n",
       "Customer service calls    0\n",
       "Churn                     0\n",
       "dtype: int64"
      ]
     },
     "execution_count": 3,
     "metadata": {},
     "output_type": "execute_result"
    }
   ],
   "source": [
    "# Checking missing values\n",
    "df.isna().sum()"
   ]
  },
  {
   "cell_type": "code",
   "execution_count": 4,
   "metadata": {},
   "outputs": [
    {
     "data": {
      "text/plain": [
       "0"
      ]
     },
     "execution_count": 4,
     "metadata": {},
     "output_type": "execute_result"
    }
   ],
   "source": [
    "# Checking for duplicates\n",
    "df.duplicated().sum()"
   ]
  },
  {
   "cell_type": "code",
   "execution_count": 5,
   "metadata": {},
   "outputs": [
    {
     "data": {
      "text/plain": [
       "Index(['State', 'Account length', 'Area code', 'International plan',\n",
       "       'Voice mail plan', 'Number vmail messages', 'Total day minutes',\n",
       "       'Total day calls', 'Total day charge', 'Total eve minutes',\n",
       "       'Total eve calls', 'Total eve charge', 'Total night minutes',\n",
       "       'Total night calls', 'Total night charge', 'Total intl minutes',\n",
       "       'Total intl calls', 'Total intl charge', 'Customer service calls',\n",
       "       'Churn'],\n",
       "      dtype='object')"
      ]
     },
     "execution_count": 5,
     "metadata": {},
     "output_type": "execute_result"
    }
   ],
   "source": [
    "df.columns"
   ]
  },
  {
   "cell_type": "code",
   "execution_count": 6,
   "metadata": {},
   "outputs": [
    {
     "data": {
      "text/html": [
       "<div>\n",
       "<style scoped>\n",
       "    .dataframe tbody tr th:only-of-type {\n",
       "        vertical-align: middle;\n",
       "    }\n",
       "\n",
       "    .dataframe tbody tr th {\n",
       "        vertical-align: top;\n",
       "    }\n",
       "\n",
       "    .dataframe thead th {\n",
       "        text-align: right;\n",
       "    }\n",
       "</style>\n",
       "<table border=\"1\" class=\"dataframe\">\n",
       "  <thead>\n",
       "    <tr style=\"text-align: right;\">\n",
       "      <th></th>\n",
       "      <th>Account length</th>\n",
       "      <th>Number vmail messages</th>\n",
       "      <th>Total day minutes</th>\n",
       "      <th>Total day calls</th>\n",
       "      <th>Total day charge</th>\n",
       "      <th>Total eve minutes</th>\n",
       "      <th>Total eve calls</th>\n",
       "      <th>Total eve charge</th>\n",
       "      <th>Total night minutes</th>\n",
       "      <th>Total night calls</th>\n",
       "      <th>Total night charge</th>\n",
       "      <th>Total intl minutes</th>\n",
       "      <th>Total intl calls</th>\n",
       "      <th>Total intl charge</th>\n",
       "      <th>Customer service calls</th>\n",
       "    </tr>\n",
       "  </thead>\n",
       "  <tbody>\n",
       "    <tr>\n",
       "      <th>count</th>\n",
       "      <td>3333.0</td>\n",
       "      <td>3333.0</td>\n",
       "      <td>3333.0</td>\n",
       "      <td>3333.0</td>\n",
       "      <td>3333.0</td>\n",
       "      <td>3333.0</td>\n",
       "      <td>3333.0</td>\n",
       "      <td>3333.0</td>\n",
       "      <td>3333.0</td>\n",
       "      <td>3333.0</td>\n",
       "      <td>3333.0</td>\n",
       "      <td>3333.0</td>\n",
       "      <td>3333.0</td>\n",
       "      <td>3333.0</td>\n",
       "      <td>3333.0</td>\n",
       "    </tr>\n",
       "    <tr>\n",
       "      <th>mean</th>\n",
       "      <td>101.1</td>\n",
       "      <td>8.1</td>\n",
       "      <td>179.8</td>\n",
       "      <td>100.4</td>\n",
       "      <td>30.6</td>\n",
       "      <td>201.0</td>\n",
       "      <td>100.1</td>\n",
       "      <td>17.1</td>\n",
       "      <td>200.9</td>\n",
       "      <td>100.1</td>\n",
       "      <td>9.0</td>\n",
       "      <td>10.2</td>\n",
       "      <td>4.5</td>\n",
       "      <td>2.8</td>\n",
       "      <td>1.6</td>\n",
       "    </tr>\n",
       "    <tr>\n",
       "      <th>std</th>\n",
       "      <td>39.8</td>\n",
       "      <td>13.7</td>\n",
       "      <td>54.5</td>\n",
       "      <td>20.1</td>\n",
       "      <td>9.3</td>\n",
       "      <td>50.7</td>\n",
       "      <td>19.9</td>\n",
       "      <td>4.3</td>\n",
       "      <td>50.6</td>\n",
       "      <td>19.6</td>\n",
       "      <td>2.3</td>\n",
       "      <td>2.8</td>\n",
       "      <td>2.5</td>\n",
       "      <td>0.8</td>\n",
       "      <td>1.3</td>\n",
       "    </tr>\n",
       "    <tr>\n",
       "      <th>min</th>\n",
       "      <td>1.0</td>\n",
       "      <td>0.0</td>\n",
       "      <td>0.0</td>\n",
       "      <td>0.0</td>\n",
       "      <td>0.0</td>\n",
       "      <td>0.0</td>\n",
       "      <td>0.0</td>\n",
       "      <td>0.0</td>\n",
       "      <td>23.2</td>\n",
       "      <td>33.0</td>\n",
       "      <td>1.0</td>\n",
       "      <td>0.0</td>\n",
       "      <td>0.0</td>\n",
       "      <td>0.0</td>\n",
       "      <td>0.0</td>\n",
       "    </tr>\n",
       "    <tr>\n",
       "      <th>25%</th>\n",
       "      <td>74.0</td>\n",
       "      <td>0.0</td>\n",
       "      <td>143.7</td>\n",
       "      <td>87.0</td>\n",
       "      <td>24.4</td>\n",
       "      <td>166.6</td>\n",
       "      <td>87.0</td>\n",
       "      <td>14.2</td>\n",
       "      <td>167.0</td>\n",
       "      <td>87.0</td>\n",
       "      <td>7.5</td>\n",
       "      <td>8.5</td>\n",
       "      <td>3.0</td>\n",
       "      <td>2.3</td>\n",
       "      <td>1.0</td>\n",
       "    </tr>\n",
       "    <tr>\n",
       "      <th>50%</th>\n",
       "      <td>101.0</td>\n",
       "      <td>0.0</td>\n",
       "      <td>179.4</td>\n",
       "      <td>101.0</td>\n",
       "      <td>30.5</td>\n",
       "      <td>201.4</td>\n",
       "      <td>100.0</td>\n",
       "      <td>17.1</td>\n",
       "      <td>201.2</td>\n",
       "      <td>100.0</td>\n",
       "      <td>9.0</td>\n",
       "      <td>10.3</td>\n",
       "      <td>4.0</td>\n",
       "      <td>2.8</td>\n",
       "      <td>1.0</td>\n",
       "    </tr>\n",
       "    <tr>\n",
       "      <th>75%</th>\n",
       "      <td>127.0</td>\n",
       "      <td>20.0</td>\n",
       "      <td>216.4</td>\n",
       "      <td>114.0</td>\n",
       "      <td>36.8</td>\n",
       "      <td>235.3</td>\n",
       "      <td>114.0</td>\n",
       "      <td>20.0</td>\n",
       "      <td>235.3</td>\n",
       "      <td>113.0</td>\n",
       "      <td>10.6</td>\n",
       "      <td>12.1</td>\n",
       "      <td>6.0</td>\n",
       "      <td>3.3</td>\n",
       "      <td>2.0</td>\n",
       "    </tr>\n",
       "    <tr>\n",
       "      <th>max</th>\n",
       "      <td>243.0</td>\n",
       "      <td>51.0</td>\n",
       "      <td>350.8</td>\n",
       "      <td>165.0</td>\n",
       "      <td>59.6</td>\n",
       "      <td>363.7</td>\n",
       "      <td>170.0</td>\n",
       "      <td>30.9</td>\n",
       "      <td>395.0</td>\n",
       "      <td>175.0</td>\n",
       "      <td>17.8</td>\n",
       "      <td>20.0</td>\n",
       "      <td>20.0</td>\n",
       "      <td>5.4</td>\n",
       "      <td>9.0</td>\n",
       "    </tr>\n",
       "  </tbody>\n",
       "</table>\n",
       "</div>"
      ],
      "text/plain": [
       "       Account length  Number vmail messages  Total day minutes  \\\n",
       "count          3333.0                 3333.0             3333.0   \n",
       "mean            101.1                    8.1              179.8   \n",
       "std              39.8                   13.7               54.5   \n",
       "min               1.0                    0.0                0.0   \n",
       "25%              74.0                    0.0              143.7   \n",
       "50%             101.0                    0.0              179.4   \n",
       "75%             127.0                   20.0              216.4   \n",
       "max             243.0                   51.0              350.8   \n",
       "\n",
       "       Total day calls  Total day charge  Total eve minutes  Total eve calls  \\\n",
       "count           3333.0            3333.0             3333.0           3333.0   \n",
       "mean             100.4              30.6              201.0            100.1   \n",
       "std               20.1               9.3               50.7             19.9   \n",
       "min                0.0               0.0                0.0              0.0   \n",
       "25%               87.0              24.4              166.6             87.0   \n",
       "50%              101.0              30.5              201.4            100.0   \n",
       "75%              114.0              36.8              235.3            114.0   \n",
       "max              165.0              59.6              363.7            170.0   \n",
       "\n",
       "       Total eve charge  Total night minutes  Total night calls  \\\n",
       "count            3333.0               3333.0             3333.0   \n",
       "mean               17.1                200.9              100.1   \n",
       "std                 4.3                 50.6               19.6   \n",
       "min                 0.0                 23.2               33.0   \n",
       "25%                14.2                167.0               87.0   \n",
       "50%                17.1                201.2              100.0   \n",
       "75%                20.0                235.3              113.0   \n",
       "max                30.9                395.0              175.0   \n",
       "\n",
       "       Total night charge  Total intl minutes  Total intl calls  \\\n",
       "count              3333.0              3333.0            3333.0   \n",
       "mean                  9.0                10.2               4.5   \n",
       "std                   2.3                 2.8               2.5   \n",
       "min                   1.0                 0.0               0.0   \n",
       "25%                   7.5                 8.5               3.0   \n",
       "50%                   9.0                10.3               4.0   \n",
       "75%                  10.6                12.1               6.0   \n",
       "max                  17.8                20.0              20.0   \n",
       "\n",
       "       Total intl charge  Customer service calls  \n",
       "count             3333.0                  3333.0  \n",
       "mean                 2.8                     1.6  \n",
       "std                  0.8                     1.3  \n",
       "min                  0.0                     0.0  \n",
       "25%                  2.3                     1.0  \n",
       "50%                  2.8                     1.0  \n",
       "75%                  3.3                     2.0  \n",
       "max                  5.4                     9.0  "
      ]
     },
     "execution_count": 6,
     "metadata": {},
     "output_type": "execute_result"
    }
   ],
   "source": [
    "# Let's have a look at whole dataset\n",
    "round(df.describe().drop(['Area code'], axis=1, inplace=False),1)"
   ]
  },
  {
   "cell_type": "code",
   "execution_count": 7,
   "metadata": {},
   "outputs": [
    {
     "data": {
      "text/plain": [
       "Text(0.5, 1.0, 'Deployment of customers with (Yes) / without (No) International plan')"
      ]
     },
     "execution_count": 7,
     "metadata": {},
     "output_type": "execute_result"
    },
    {
     "data": {
      "image/png": "[encoded data removed]",
      "text/plain": [
       "<Figure size 720x360 with 1 Axes>"
      ]
     },
     "metadata": {},
     "output_type": "display_data"
    }
   ],
   "source": [
    "# Deployment of customers with International plan\n",
    "fig1, ax1 = plt.subplots(figsize=(10,5))\n",
    "ax1.pie(df['International plan'].value_counts(), explode = (0.2,0), labels=['Yes', 'No'], autopct='%1.1f%%',\n",
    "        shadow=True, startangle=90)\n",
    "plt.legend()\n",
    "plt.title('Deployment of customers with (Yes) / without (No) International plan')"
   ]
  },
  {
   "cell_type": "code",
   "execution_count": 8,
   "metadata": {},
   "outputs": [
    {
     "data": {
      "text/plain": [
       "Text(0.5, 1.0, 'Deployment of customers with (Yes) / without (No) Voice mail plan')"
      ]
     },
     "execution_count": 8,
     "metadata": {},
     "output_type": "execute_result"
    },
    {
     "data": {
      "image/png": "[encoded data removed]",
      "text/plain": [
       "<Figure size 720x360 with 1 Axes>"
      ]
     },
     "metadata": {},
     "output_type": "display_data"
    }
   ],
   "source": [
    "# Deployment of customers with Voice mail plan\n",
    "fig1, ax1 = plt.subplots(figsize=(10,5))\n",
    "ax1.pie(df['Voice mail plan'].value_counts(), explode = (0.2,0), labels=['No', 'Yes'], autopct='%1.1f%%',\n",
    "        shadow=True, startangle=90)\n",
    "plt.legend()\n",
    "plt.title('Deployment of customers with (Yes) / without (No) Voice mail plan')"
   ]
  },
  {
   "cell_type": "code",
   "execution_count": 9,
   "metadata": {},
   "outputs": [
    {
     "data": {
      "text/plain": [
       "Text(0.5, 1.0, 'Churn deployment')"
      ]
     },
     "execution_count": 9,
     "metadata": {},
     "output_type": "execute_result"
    },
    {
     "data": {
      "image/png": "[encoded data removed]",
      "text/plain": [
       "<Figure size 720x360 with 1 Axes>"
      ]
     },
     "metadata": {},
     "output_type": "display_data"
    }
   ],
   "source": [
    "# Deployment of customers who left the company\n",
    "fig1, ax1 = plt.subplots(figsize=(10,5))\n",
    "ax1.pie(df['Churn'].value_counts(), explode = (0.2,0), labels=['False', 'True'], autopct='%1.1f%%',\n",
    "        shadow=True, startangle=90)\n",
    "plt.legend()\n",
    "plt.title('Churn deployment')"
   ]
  },
  {
   "cell_type": "code",
   "execution_count": 10,
   "metadata": {},
   "outputs": [
    {
     "data": {
      "text/plain": [
       "<function matplotlib.pyplot.ylabel(ylabel, fontdict=None, labelpad=None, **kwargs)>"
      ]
     },
     "execution_count": 10,
     "metadata": {},
     "output_type": "execute_result"
    },
    {
     "data": {
      "image/png": "[encoded data removed]",
      "text/plain": [
       "<Figure size 720x360 with 1 Axes>"
      ]
     },
     "metadata": {
      "needs_background": "light"
     },
     "output_type": "display_data"
    }
   ],
   "source": [
    "# Deployment of customers by day calls\n",
    "fig1, ax1 = plt.subplots(figsize=(10,5))\n",
    "sns.distplot(df['Total day calls'], bins=10)\n",
    "plt.title('Deployment of customers by day calls')\n",
    "plt.ylabel"
   ]
  },
  {
   "cell_type": "code",
   "execution_count": 11,
   "metadata": {},
   "outputs": [
    {
     "data": {
      "text/plain": [
       "<function matplotlib.pyplot.ylabel(ylabel, fontdict=None, labelpad=None, **kwargs)>"
      ]
     },
     "execution_count": 11,
     "metadata": {},
     "output_type": "execute_result"
    },
    {
     "data": {
      "image/png": "[encoded data removed]",
      "text/plain": [
       "<Figure size 720x360 with 1 Axes>"
      ]
     },
     "metadata": {
      "needs_background": "light"
     },
     "output_type": "display_data"
    }
   ],
   "source": [
    "# Deployment of customers by evening calls# \n",
    "fig1, ax1 = plt.subplots(figsize=(10,5))\n",
    "sns.distplot(df['Total eve calls'], bins=10)\n",
    "plt.title('Deployment of customers by evening calls')\n",
    "plt.ylabel"
   ]
  },
  {
   "cell_type": "code",
   "execution_count": 12,
   "metadata": {},
   "outputs": [
    {
     "data": {
      "text/plain": [
       "<function matplotlib.pyplot.ylabel(ylabel, fontdict=None, labelpad=None, **kwargs)>"
      ]
     },
     "execution_count": 12,
     "metadata": {},
     "output_type": "execute_result"
    },
    {
     "data": {
      "image/png": "[encoded data removed]",
      "text/plain": [
       "<Figure size 720x360 with 1 Axes>"
      ]
     },
     "metadata": {
      "needs_background": "light"
     },
     "output_type": "display_data"
    }
   ],
   "source": [
    "# Deployment of customers by night calls\n",
    "fig1, ax1 = plt.subplots(figsize=(10,5))\n",
    "sns.distplot(df['Total night calls'], bins=10)\n",
    "plt.title('Deployment of customers by night calls')\n",
    "plt.ylabel"
   ]
  },
  {
   "cell_type": "code",
   "execution_count": 13,
   "metadata": {},
   "outputs": [
    {
     "data": {
      "image/png": "[encoded data removed]",
      "text/plain": [
       "<Figure size 1080x864 with 15 Axes>"
      ]
     },
     "metadata": {
      "needs_background": "light"
     },
     "output_type": "display_data"
    }
   ],
   "source": [
    "# Histograms of Numerical Columns\n",
    "dataset = df.drop(columns = ['State','Area code', 'International plan','Voice mail plan', 'Churn'])\n",
    "fig = plt.figure(figsize=(15, 12))\n",
    "plt.suptitle('Histograms of Numerical Columns', fontsize=20)\n",
    "for i in range(1, dataset.shape[1] + 1):\n",
    "    plt.subplot(5, 3, i)\n",
    "    f = plt.gca()\n",
    "    f.axes.get_yaxis().set_visible(False)\n",
    "    f.set_title(dataset.columns.values[i - 1])\n",
    "    plt.hist(dataset.iloc[:, i - 1], bins=10)\n",
    "plt.tight_layout(rect=[0, 0.03, 1, 0.95])"
   ]
  },
  {
   "cell_type": "markdown",
   "metadata": {},
   "source": [
    "# Data Preprocessing part"
   ]
  },
  {
   "cell_type": "code",
   "execution_count": 14,
   "metadata": {},
   "outputs": [
    {
     "data": {
      "text/html": [
       "<div>\n",
       "<style scoped>\n",
       "    .dataframe tbody tr th:only-of-type {\n",
       "        vertical-align: middle;\n",
       "    }\n",
       "\n",
       "    .dataframe tbody tr th {\n",
       "        vertical-align: top;\n",
       "    }\n",
       "\n",
       "    .dataframe thead th {\n",
       "        text-align: right;\n",
       "    }\n",
       "</style>\n",
       "<table border=\"1\" class=\"dataframe\">\n",
       "  <thead>\n",
       "    <tr style=\"text-align: right;\">\n",
       "      <th></th>\n",
       "      <th>0</th>\n",
       "      <th>1</th>\n",
       "      <th>2</th>\n",
       "      <th>3</th>\n",
       "      <th>4</th>\n",
       "      <th>5</th>\n",
       "      <th>6</th>\n",
       "      <th>7</th>\n",
       "      <th>8</th>\n",
       "      <th>9</th>\n",
       "    </tr>\n",
       "  </thead>\n",
       "  <tbody>\n",
       "    <tr>\n",
       "      <th>State</th>\n",
       "      <td>16.00</td>\n",
       "      <td>35.00</td>\n",
       "      <td>31.00</td>\n",
       "      <td>35.00</td>\n",
       "      <td>36.00</td>\n",
       "      <td>1.00</td>\n",
       "      <td>19.00</td>\n",
       "      <td>24.00</td>\n",
       "      <td>18.00</td>\n",
       "      <td>49.00</td>\n",
       "    </tr>\n",
       "    <tr>\n",
       "      <th>Account length</th>\n",
       "      <td>128.00</td>\n",
       "      <td>107.00</td>\n",
       "      <td>137.00</td>\n",
       "      <td>84.00</td>\n",
       "      <td>75.00</td>\n",
       "      <td>118.00</td>\n",
       "      <td>121.00</td>\n",
       "      <td>147.00</td>\n",
       "      <td>117.00</td>\n",
       "      <td>141.00</td>\n",
       "    </tr>\n",
       "    <tr>\n",
       "      <th>Area code</th>\n",
       "      <td>415.00</td>\n",
       "      <td>415.00</td>\n",
       "      <td>415.00</td>\n",
       "      <td>408.00</td>\n",
       "      <td>415.00</td>\n",
       "      <td>510.00</td>\n",
       "      <td>510.00</td>\n",
       "      <td>415.00</td>\n",
       "      <td>408.00</td>\n",
       "      <td>415.00</td>\n",
       "    </tr>\n",
       "    <tr>\n",
       "      <th>International plan</th>\n",
       "      <td>0.00</td>\n",
       "      <td>0.00</td>\n",
       "      <td>0.00</td>\n",
       "      <td>1.00</td>\n",
       "      <td>1.00</td>\n",
       "      <td>1.00</td>\n",
       "      <td>0.00</td>\n",
       "      <td>1.00</td>\n",
       "      <td>0.00</td>\n",
       "      <td>1.00</td>\n",
       "    </tr>\n",
       "    <tr>\n",
       "      <th>Voice mail plan</th>\n",
       "      <td>1.00</td>\n",
       "      <td>1.00</td>\n",
       "      <td>0.00</td>\n",
       "      <td>0.00</td>\n",
       "      <td>0.00</td>\n",
       "      <td>0.00</td>\n",
       "      <td>1.00</td>\n",
       "      <td>0.00</td>\n",
       "      <td>0.00</td>\n",
       "      <td>1.00</td>\n",
       "    </tr>\n",
       "    <tr>\n",
       "      <th>Number vmail messages</th>\n",
       "      <td>25.00</td>\n",
       "      <td>26.00</td>\n",
       "      <td>0.00</td>\n",
       "      <td>0.00</td>\n",
       "      <td>0.00</td>\n",
       "      <td>0.00</td>\n",
       "      <td>24.00</td>\n",
       "      <td>0.00</td>\n",
       "      <td>0.00</td>\n",
       "      <td>37.00</td>\n",
       "    </tr>\n",
       "    <tr>\n",
       "      <th>Total day minutes</th>\n",
       "      <td>265.10</td>\n",
       "      <td>161.60</td>\n",
       "      <td>243.40</td>\n",
       "      <td>299.40</td>\n",
       "      <td>166.70</td>\n",
       "      <td>223.40</td>\n",
       "      <td>218.20</td>\n",
       "      <td>157.00</td>\n",
       "      <td>184.50</td>\n",
       "      <td>258.60</td>\n",
       "    </tr>\n",
       "    <tr>\n",
       "      <th>Total day calls</th>\n",
       "      <td>110.00</td>\n",
       "      <td>123.00</td>\n",
       "      <td>114.00</td>\n",
       "      <td>71.00</td>\n",
       "      <td>113.00</td>\n",
       "      <td>98.00</td>\n",
       "      <td>88.00</td>\n",
       "      <td>79.00</td>\n",
       "      <td>97.00</td>\n",
       "      <td>84.00</td>\n",
       "    </tr>\n",
       "    <tr>\n",
       "      <th>Total day charge</th>\n",
       "      <td>45.07</td>\n",
       "      <td>27.47</td>\n",
       "      <td>41.38</td>\n",
       "      <td>50.90</td>\n",
       "      <td>28.34</td>\n",
       "      <td>37.98</td>\n",
       "      <td>37.09</td>\n",
       "      <td>26.69</td>\n",
       "      <td>31.37</td>\n",
       "      <td>43.96</td>\n",
       "    </tr>\n",
       "    <tr>\n",
       "      <th>Total eve minutes</th>\n",
       "      <td>197.40</td>\n",
       "      <td>195.50</td>\n",
       "      <td>121.20</td>\n",
       "      <td>61.90</td>\n",
       "      <td>148.30</td>\n",
       "      <td>220.60</td>\n",
       "      <td>348.50</td>\n",
       "      <td>103.10</td>\n",
       "      <td>351.60</td>\n",
       "      <td>222.00</td>\n",
       "    </tr>\n",
       "    <tr>\n",
       "      <th>Total eve calls</th>\n",
       "      <td>99.00</td>\n",
       "      <td>103.00</td>\n",
       "      <td>110.00</td>\n",
       "      <td>88.00</td>\n",
       "      <td>122.00</td>\n",
       "      <td>101.00</td>\n",
       "      <td>108.00</td>\n",
       "      <td>94.00</td>\n",
       "      <td>80.00</td>\n",
       "      <td>111.00</td>\n",
       "    </tr>\n",
       "    <tr>\n",
       "      <th>Total eve charge</th>\n",
       "      <td>16.78</td>\n",
       "      <td>16.62</td>\n",
       "      <td>10.30</td>\n",
       "      <td>5.26</td>\n",
       "      <td>12.61</td>\n",
       "      <td>18.75</td>\n",
       "      <td>29.62</td>\n",
       "      <td>8.76</td>\n",
       "      <td>29.89</td>\n",
       "      <td>18.87</td>\n",
       "    </tr>\n",
       "    <tr>\n",
       "      <th>Total night minutes</th>\n",
       "      <td>244.70</td>\n",
       "      <td>254.40</td>\n",
       "      <td>162.60</td>\n",
       "      <td>196.90</td>\n",
       "      <td>186.90</td>\n",
       "      <td>203.90</td>\n",
       "      <td>212.60</td>\n",
       "      <td>211.80</td>\n",
       "      <td>215.80</td>\n",
       "      <td>326.40</td>\n",
       "    </tr>\n",
       "    <tr>\n",
       "      <th>Total night calls</th>\n",
       "      <td>91.00</td>\n",
       "      <td>103.00</td>\n",
       "      <td>104.00</td>\n",
       "      <td>89.00</td>\n",
       "      <td>121.00</td>\n",
       "      <td>118.00</td>\n",
       "      <td>118.00</td>\n",
       "      <td>96.00</td>\n",
       "      <td>90.00</td>\n",
       "      <td>97.00</td>\n",
       "    </tr>\n",
       "    <tr>\n",
       "      <th>Total night charge</th>\n",
       "      <td>11.01</td>\n",
       "      <td>11.45</td>\n",
       "      <td>7.32</td>\n",
       "      <td>8.86</td>\n",
       "      <td>8.41</td>\n",
       "      <td>9.18</td>\n",
       "      <td>9.57</td>\n",
       "      <td>9.53</td>\n",
       "      <td>9.71</td>\n",
       "      <td>14.69</td>\n",
       "    </tr>\n",
       "    <tr>\n",
       "      <th>Total intl minutes</th>\n",
       "      <td>10.00</td>\n",
       "      <td>13.70</td>\n",
       "      <td>12.20</td>\n",
       "      <td>6.60</td>\n",
       "      <td>10.10</td>\n",
       "      <td>6.30</td>\n",
       "      <td>7.50</td>\n",
       "      <td>7.10</td>\n",
       "      <td>8.70</td>\n",
       "      <td>11.20</td>\n",
       "    </tr>\n",
       "    <tr>\n",
       "      <th>Total intl calls</th>\n",
       "      <td>3.00</td>\n",
       "      <td>3.00</td>\n",
       "      <td>5.00</td>\n",
       "      <td>7.00</td>\n",
       "      <td>3.00</td>\n",
       "      <td>6.00</td>\n",
       "      <td>7.00</td>\n",
       "      <td>6.00</td>\n",
       "      <td>4.00</td>\n",
       "      <td>5.00</td>\n",
       "    </tr>\n",
       "    <tr>\n",
       "      <th>Total intl charge</th>\n",
       "      <td>2.70</td>\n",
       "      <td>3.70</td>\n",
       "      <td>3.29</td>\n",
       "      <td>1.78</td>\n",
       "      <td>2.73</td>\n",
       "      <td>1.70</td>\n",
       "      <td>2.03</td>\n",
       "      <td>1.92</td>\n",
       "      <td>2.35</td>\n",
       "      <td>3.02</td>\n",
       "    </tr>\n",
       "    <tr>\n",
       "      <th>Customer service calls</th>\n",
       "      <td>1.00</td>\n",
       "      <td>1.00</td>\n",
       "      <td>0.00</td>\n",
       "      <td>2.00</td>\n",
       "      <td>3.00</td>\n",
       "      <td>0.00</td>\n",
       "      <td>3.00</td>\n",
       "      <td>0.00</td>\n",
       "      <td>1.00</td>\n",
       "      <td>0.00</td>\n",
       "    </tr>\n",
       "    <tr>\n",
       "      <th>Churn</th>\n",
       "      <td>0.00</td>\n",
       "      <td>0.00</td>\n",
       "      <td>0.00</td>\n",
       "      <td>0.00</td>\n",
       "      <td>0.00</td>\n",
       "      <td>0.00</td>\n",
       "      <td>0.00</td>\n",
       "      <td>0.00</td>\n",
       "      <td>0.00</td>\n",
       "      <td>0.00</td>\n",
       "    </tr>\n",
       "  </tbody>\n",
       "</table>\n",
       "</div>"
      ],
      "text/plain": [
       "                             0       1       2       3       4       5  \\\n",
       "State                    16.00   35.00   31.00   35.00   36.00    1.00   \n",
       "Account length          128.00  107.00  137.00   84.00   75.00  118.00   \n",
       "Area code               415.00  415.00  415.00  408.00  415.00  510.00   \n",
       "International plan        0.00    0.00    0.00    1.00    1.00    1.00   \n",
       "Voice mail plan           1.00    1.00    0.00    0.00    0.00    0.00   \n",
       "Number vmail messages    25.00   26.00    0.00    0.00    0.00    0.00   \n",
       "Total day minutes       265.10  161.60  243.40  299.40  166.70  223.40   \n",
       "Total day calls         110.00  123.00  114.00   71.00  113.00   98.00   \n",
       "Total day charge         45.07   27.47   41.38   50.90   28.34   37.98   \n",
       "Total eve minutes       197.40  195.50  121.20   61.90  148.30  220.60   \n",
       "Total eve calls          99.00  103.00  110.00   88.00  122.00  101.00   \n",
       "Total eve charge         16.78   16.62   10.30    5.26   12.61   18.75   \n",
       "Total night minutes     244.70  254.40  162.60  196.90  186.90  203.90   \n",
       "Total night calls        91.00  103.00  104.00   89.00  121.00  118.00   \n",
       "Total night charge       11.01   11.45    7.32    8.86    8.41    9.18   \n",
       "Total intl minutes       10.00   13.70   12.20    6.60   10.10    6.30   \n",
       "Total intl calls          3.00    3.00    5.00    7.00    3.00    6.00   \n",
       "Total intl charge         2.70    3.70    3.29    1.78    2.73    1.70   \n",
       "Customer service calls    1.00    1.00    0.00    2.00    3.00    0.00   \n",
       "Churn                     0.00    0.00    0.00    0.00    0.00    0.00   \n",
       "\n",
       "                             6       7       8       9  \n",
       "State                    19.00   24.00   18.00   49.00  \n",
       "Account length          121.00  147.00  117.00  141.00  \n",
       "Area code               510.00  415.00  408.00  415.00  \n",
       "International plan        0.00    1.00    0.00    1.00  \n",
       "Voice mail plan           1.00    0.00    0.00    1.00  \n",
       "Number vmail messages    24.00    0.00    0.00   37.00  \n",
       "Total day minutes       218.20  157.00  184.50  258.60  \n",
       "Total day calls          88.00   79.00   97.00   84.00  \n",
       "Total day charge         37.09   26.69   31.37   43.96  \n",
       "Total eve minutes       348.50  103.10  351.60  222.00  \n",
       "Total eve calls         108.00   94.00   80.00  111.00  \n",
       "Total eve charge         29.62    8.76   29.89   18.87  \n",
       "Total night minutes     212.60  211.80  215.80  326.40  \n",
       "Total night calls       118.00   96.00   90.00   97.00  \n",
       "Total night charge        9.57    9.53    9.71   14.69  \n",
       "Total intl minutes        7.50    7.10    8.70   11.20  \n",
       "Total intl calls          7.00    6.00    4.00    5.00  \n",
       "Total intl charge         2.03    1.92    2.35    3.02  \n",
       "Customer service calls    3.00    0.00    1.00    0.00  \n",
       "Churn                     0.00    0.00    0.00    0.00  "
      ]
     },
     "execution_count": 14,
     "metadata": {},
     "output_type": "execute_result"
    }
   ],
   "source": [
    "# Taking care of categorical data\n",
    "from sklearn.preprocessing import LabelEncoder\n",
    "labelencoder = LabelEncoder()\n",
    "categorical_cols = ['State', 'International plan', 'Voice mail plan', 'Churn']\n",
    "df[categorical_cols] = df[categorical_cols].apply(lambda col: labelencoder.fit_transform(col.astype(str)))\n",
    "df.head(10).transpose()"
   ]
  },
  {
   "cell_type": "code",
   "execution_count": 15,
   "metadata": {},
   "outputs": [
    {
     "data": {
      "text/plain": [
       "State                     0.008\n",
       "Account length            0.017\n",
       "Area code                 0.006\n",
       "International plan        0.260\n",
       "Voice mail plan          -0.102\n",
       "Number vmail messages    -0.090\n",
       "Total day minutes         0.205\n",
       "Total day calls           0.018\n",
       "Total day charge          0.205\n",
       "Total eve minutes         0.093\n",
       "Total eve calls           0.009\n",
       "Total eve charge          0.093\n",
       "Total night minutes       0.035\n",
       "Total night calls         0.006\n",
       "Total night charge        0.035\n",
       "Total intl minutes        0.068\n",
       "Total intl calls         -0.053\n",
       "Total intl charge         0.068\n",
       "Customer service calls    0.209\n",
       "Churn                     1.000\n",
       "Name: Churn, dtype: float64"
      ]
     },
     "execution_count": 15,
     "metadata": {},
     "output_type": "execute_result"
    }
   ],
   "source": [
    "# Let's see the correlation with 'Churn' column\n",
    "round(df[df.columns[:]].corr()['Churn'][:],3)"
   ]
  },
  {
   "cell_type": "code",
   "execution_count": 16,
   "metadata": {},
   "outputs": [],
   "source": [
    "# Let's drop the columns with correlation less then 0.03 - State, Account length and Area code\n",
    "df.drop(['State', 'Account length', 'Area code'], axis=1, inplace=True)"
   ]
  },
  {
   "cell_type": "code",
   "execution_count": 17,
   "metadata": {},
   "outputs": [],
   "source": [
    "# Creating DV and IV sets\n",
    "X = df.drop('Churn', axis=1)\n",
    "y = df['Churn']\n",
    "\n",
    "# Splitting the dataset into the Training set and Test set\n",
    "from sklearn.model_selection import train_test_split\n",
    "X_train, X_test, y_train, y_test = train_test_split(X, y, test_size = 0.25, random_state=123)"
   ]
  },
  {
   "cell_type": "markdown",
   "metadata": {},
   "source": [
    "# Models part"
   ]
  },
  {
   "cell_type": "markdown",
   "metadata": {},
   "source": [
    "We are goinig to test 3 algorithms:\n",
    "- Random Forest\n",
    "- Naive Bayes\n",
    "- Artificial neural network with Keras\n",
    "\n",
    "For evaluation we will use confusion matrix and classification report. All metrics should be stored in 'sum_met' data frame (summary of meterics)."
   ]
  },
  {
   "cell_type": "code",
   "execution_count": 18,
   "metadata": {},
   "outputs": [],
   "source": [
    "sum_met = pd.DataFrame(index = ['accuracy'], columns = ['Random_Forest', 'Naive_Bayes', 'Keras_ANN'])"
   ]
  },
  {
   "cell_type": "markdown",
   "metadata": {},
   "source": [
    "### Random Forest Classifier"
   ]
  },
  {
   "cell_type": "code",
   "execution_count": 19,
   "metadata": {},
   "outputs": [
    {
     "data": {
      "text/plain": [
       "RandomForestClassifier(bootstrap=True, class_weight=None, criterion='entropy',\n",
       "                       max_depth=None, max_features='auto', max_leaf_nodes=None,\n",
       "                       min_impurity_decrease=0.0, min_impurity_split=None,\n",
       "                       min_samples_leaf=1, min_samples_split=2,\n",
       "                       min_weight_fraction_leaf=0.0, n_estimators=50,\n",
       "                       n_jobs=None, oob_score=False, random_state=123,\n",
       "                       verbose=0, warm_start=False)"
      ]
     },
     "execution_count": 19,
     "metadata": {},
     "output_type": "execute_result"
    }
   ],
   "source": [
    "from sklearn.ensemble import RandomForestClassifier\n",
    "classifier = RandomForestClassifier(n_estimators = 50, criterion = 'entropy', random_state = 123)\n",
    "classifier.fit(X_train, y_train)"
   ]
  },
  {
   "cell_type": "code",
   "execution_count": 20,
   "metadata": {},
   "outputs": [],
   "source": [
    "# Predicting the Test set results\n",
    "y_pred = classifier.predict(X_test)"
   ]
  },
  {
   "cell_type": "code",
   "execution_count": 21,
   "metadata": {},
   "outputs": [
    {
     "name": "stdout",
     "output_type": "stream",
     "text": [
      "Confusion matrix:\n",
      " [[716   7]\n",
      " [ 25  86]]\n",
      "\n",
      " Classification report:\n",
      "\n",
      "               precision    recall  f1-score   support\n",
      "\n",
      "           0       0.97      0.99      0.98       723\n",
      "           1       0.92      0.77      0.84       111\n",
      "\n",
      "    accuracy                           0.96       834\n",
      "   macro avg       0.95      0.88      0.91       834\n",
      "weighted avg       0.96      0.96      0.96       834\n",
      "\n"
     ]
    }
   ],
   "source": [
    "# Making the Confusion Matrix and Classification report\n",
    "from sklearn.metrics import confusion_matrix, classification_report\n",
    "cm = confusion_matrix(y_test, y_pred)\n",
    "\n",
    "# Saving the accuracy for Random Forest\n",
    "cl = classification_report(y_test, y_pred)\n",
    "list_of_words = cl.split()\n",
    "sum_met.at['accuracy','Random_Forest'] = list_of_words[list_of_words.index('accuracy') + 1]\n",
    "\n",
    "# Printing the results\n",
    "print('Confusion matrix:\\n',cm)\n",
    "print('\\n','Classification report:\\n\\n',classification_report(y_test, y_pred))"
   ]
  },
  {
   "cell_type": "markdown",
   "metadata": {},
   "source": [
    "Accuracy 96% - Wow!!!"
   ]
  },
  {
   "cell_type": "markdown",
   "metadata": {},
   "source": [
    "### Naive Bayes Classifier"
   ]
  },
  {
   "cell_type": "code",
   "execution_count": 22,
   "metadata": {},
   "outputs": [
    {
     "data": {
      "text/plain": [
       "GaussianNB(priors=None, var_smoothing=1e-09)"
      ]
     },
     "execution_count": 22,
     "metadata": {},
     "output_type": "execute_result"
    }
   ],
   "source": [
    "from sklearn.naive_bayes import GaussianNB\n",
    "classifier = GaussianNB()\n",
    "classifier.fit(X_train, y_train) "
   ]
  },
  {
   "cell_type": "code",
   "execution_count": 23,
   "metadata": {},
   "outputs": [],
   "source": [
    "# Predicting the Test set results\n",
    "y_pred = classifier.predict(X_test)"
   ]
  },
  {
   "cell_type": "code",
   "execution_count": 24,
   "metadata": {},
   "outputs": [
    {
     "name": "stdout",
     "output_type": "stream",
     "text": [
      "Confusion matrix:\n",
      " [[668  55]\n",
      " [ 45  66]]\n",
      "\n",
      " Classification report:\n",
      "\n",
      "               precision    recall  f1-score   support\n",
      "\n",
      "           0       0.94      0.92      0.93       723\n",
      "           1       0.55      0.59      0.57       111\n",
      "\n",
      "    accuracy                           0.88       834\n",
      "   macro avg       0.74      0.76      0.75       834\n",
      "weighted avg       0.88      0.88      0.88       834\n",
      "\n"
     ]
    }
   ],
   "source": [
    "# Making the Confusion Matrix and Classification report\n",
    "from sklearn.metrics import confusion_matrix, classification_report\n",
    "cm = confusion_matrix(y_test, y_pred)\n",
    "\n",
    "# Saving the accuracy for Naive Bayes\n",
    "cl = classification_report(y_test, y_pred)\n",
    "list_of_words = cl.split()\n",
    "sum_met.at['accuracy','Naive_Bayes'] = list_of_words[list_of_words.index('accuracy') + 1]\n",
    "\n",
    "# Printing the results\n",
    "print('Confusion matrix:\\n',cm)\n",
    "print('\\n','Classification report:\\n\\n',classification_report(y_test, y_pred))"
   ]
  },
  {
   "cell_type": "markdown",
   "metadata": {},
   "source": [
    "Accuracy 88%, not bad at all, but worse then Random Forest."
   ]
  },
  {
   "cell_type": "markdown",
   "metadata": {},
   "source": [
    "### ANN with Keras"
   ]
  },
  {
   "cell_type": "code",
   "execution_count": 25,
   "metadata": {},
   "outputs": [
    {
     "name": "stderr",
     "output_type": "stream",
     "text": [
      "Using TensorFlow backend.\n"
     ]
    },
    {
     "name": "stdout",
     "output_type": "stream",
     "text": [
      "WARNING:tensorflow:From D:\\Anaconda\\lib\\site-packages\\tensorflow\\python\\framework\\op_def_library.py:263: colocate_with (from tensorflow.python.framework.ops) is deprecated and will be removed in a future version.\n",
      "Instructions for updating:\n",
      "Colocations handled automatically by placer.\n",
      "WARNING:tensorflow:From D:\\Anaconda\\lib\\site-packages\\tensorflow\\python\\ops\\math_ops.py:3066: to_int32 (from tensorflow.python.ops.math_ops) is deprecated and will be removed in a future version.\n",
      "Instructions for updating:\n",
      "Use tf.cast instead.\n",
      "Epoch 1/100\n",
      "2499/2499 [==============================] - 1s 573us/step - loss: 0.4457 - acc: 0.8499\n",
      "Epoch 2/100\n",
      "2499/2499 [==============================] - 1s 301us/step - loss: 0.4229 - acc: 0.8511\n",
      "Epoch 3/100\n",
      "2499/2499 [==============================] - 1s 305us/step - loss: 0.4121 - acc: 0.8511\n",
      "Epoch 4/100\n",
      "2499/2499 [==============================] - 1s 302us/step - loss: 0.4107 - acc: 0.8511\n",
      "Epoch 5/100\n",
      "2499/2499 [==============================] - 1s 302us/step - loss: 0.4082 - acc: 0.8511\n",
      "Epoch 6/100\n",
      "2499/2499 [==============================] - 1s 307us/step - loss: 0.4050 - acc: 0.8511\n",
      "Epoch 7/100\n",
      "2499/2499 [==============================] - 1s 304us/step - loss: 0.4020 - acc: 0.8511\n",
      "Epoch 8/100\n",
      "2499/2499 [==============================] - 1s 302us/step - loss: 0.3998 - acc: 0.8511\n",
      "Epoch 9/100\n",
      "2499/2499 [==============================] - 1s 300us/step - loss: 0.3976 - acc: 0.8511\n",
      "Epoch 10/100\n",
      "2499/2499 [==============================] - 1s 302us/step - loss: 0.3987 - acc: 0.8511\n",
      "Epoch 11/100\n",
      "2499/2499 [==============================] - 1s 306us/step - loss: 0.3950 - acc: 0.8511\n",
      "Epoch 12/100\n",
      "2499/2499 [==============================] - 1s 302us/step - loss: 0.3932 - acc: 0.8511\n",
      "Epoch 13/100\n",
      "2499/2499 [==============================] - 1s 305us/step - loss: 0.3943 - acc: 0.8519\n",
      "Epoch 14/100\n",
      "2499/2499 [==============================] - 1s 302us/step - loss: 0.3876 - acc: 0.8547\n",
      "Epoch 15/100\n",
      "2499/2499 [==============================] - 1s 303us/step - loss: 0.3816 - acc: 0.8555\n",
      "Epoch 16/100\n",
      "2499/2499 [==============================] - 1s 305us/step - loss: 0.3790 - acc: 0.8547\n",
      "Epoch 17/100\n",
      "2499/2499 [==============================] - 1s 301us/step - loss: 0.3662 - acc: 0.8583\n",
      "Epoch 18/100\n",
      "2499/2499 [==============================] - 1s 303us/step - loss: 0.3681 - acc: 0.8567\n",
      "Epoch 19/100\n",
      "2499/2499 [==============================] - 1s 304us/step - loss: 0.3509 - acc: 0.8591\n",
      "Epoch 20/100\n",
      "2499/2499 [==============================] - 1s 303us/step - loss: 0.3501 - acc: 0.8571\n",
      "Epoch 21/100\n",
      "2499/2499 [==============================] - 1s 310us/step - loss: 0.3403 - acc: 0.8627\n",
      "Epoch 22/100\n",
      "2499/2499 [==============================] - 1s 304us/step - loss: 0.3422 - acc: 0.8619\n",
      "Epoch 23/100\n",
      "2499/2499 [==============================] - 1s 306us/step - loss: 0.3351 - acc: 0.8711\n",
      "Epoch 24/100\n",
      "2499/2499 [==============================] - 1s 316us/step - loss: 0.3304 - acc: 0.8699\n",
      "Epoch 25/100\n",
      "2499/2499 [==============================] - 1s 315us/step - loss: 0.3297 - acc: 0.8703 0s - loss: 0.365\n",
      "Epoch 26/100\n",
      "2499/2499 [==============================] - 1s 324us/step - loss: 0.3206 - acc: 0.8784\n",
      "Epoch 27/100\n",
      "2499/2499 [==============================] - 1s 315us/step - loss: 0.3226 - acc: 0.8800\n",
      "Epoch 28/100\n",
      "2499/2499 [==============================] - 1s 307us/step - loss: 0.3233 - acc: 0.8772\n",
      "Epoch 29/100\n",
      "2499/2499 [==============================] - 1s 313us/step - loss: 0.3233 - acc: 0.8723\n",
      "Epoch 30/100\n",
      "2499/2499 [==============================] - 1s 304us/step - loss: 0.3132 - acc: 0.8804\n",
      "Epoch 31/100\n",
      "2499/2499 [==============================] - 1s 308us/step - loss: 0.3162 - acc: 0.8764\n",
      "Epoch 32/100\n",
      "2499/2499 [==============================] - 1s 308us/step - loss: 0.3097 - acc: 0.8788\n",
      "Epoch 33/100\n",
      "2499/2499 [==============================] - 1s 312us/step - loss: 0.3110 - acc: 0.8788\n",
      "Epoch 34/100\n",
      "2499/2499 [==============================] - 1s 314us/step - loss: 0.3085 - acc: 0.8840\n",
      "Epoch 35/100\n",
      "2499/2499 [==============================] - 1s 307us/step - loss: 0.3117 - acc: 0.8880\n",
      "Epoch 36/100\n",
      "2499/2499 [==============================] - 1s 322us/step - loss: 0.3136 - acc: 0.8820\n",
      "Epoch 37/100\n",
      "2499/2499 [==============================] - 1s 322us/step - loss: 0.3053 - acc: 0.8852\n",
      "Epoch 38/100\n",
      "2499/2499 [==============================] - 1s 323us/step - loss: 0.3091 - acc: 0.8832\n",
      "Epoch 39/100\n",
      "2499/2499 [==============================] - 1s 363us/step - loss: 0.3046 - acc: 0.8876\n",
      "Epoch 40/100\n",
      "2499/2499 [==============================] - 1s 303us/step - loss: 0.3072 - acc: 0.8808\n",
      "Epoch 41/100\n",
      "2499/2499 [==============================] - 1s 304us/step - loss: 0.3040 - acc: 0.8868\n",
      "Epoch 42/100\n",
      "2499/2499 [==============================] - 1s 311us/step - loss: 0.3058 - acc: 0.8840\n",
      "Epoch 43/100\n",
      "2499/2499 [==============================] - 1s 299us/step - loss: 0.3061 - acc: 0.8852\n",
      "Epoch 44/100\n",
      "2499/2499 [==============================] - 1s 308us/step - loss: 0.3091 - acc: 0.8824\n",
      "Epoch 45/100\n",
      "2499/2499 [==============================] - 1s 306us/step - loss: 0.3046 - acc: 0.8892\n",
      "Epoch 46/100\n",
      "2499/2499 [==============================] - 1s 352us/step - loss: 0.3054 - acc: 0.8816\n",
      "Epoch 47/100\n",
      "2499/2499 [==============================] - 1s 360us/step - loss: 0.3017 - acc: 0.8892\n",
      "Epoch 48/100\n",
      "2499/2499 [==============================] - 1s 382us/step - loss: 0.3025 - acc: 0.8844\n",
      "Epoch 49/100\n",
      "2499/2499 [==============================] - 1s 370us/step - loss: 0.3031 - acc: 0.8840\n",
      "Epoch 50/100\n",
      "2499/2499 [==============================] - 1s 321us/step - loss: 0.2970 - acc: 0.8876\n",
      "Epoch 51/100\n",
      "2499/2499 [==============================] - 1s 317us/step - loss: 0.3042 - acc: 0.8820\n",
      "Epoch 52/100\n",
      "2499/2499 [==============================] - 1s 334us/step - loss: 0.2998 - acc: 0.8868\n",
      "Epoch 53/100\n",
      "2499/2499 [==============================] - 1s 340us/step - loss: 0.2974 - acc: 0.8848\n",
      "Epoch 54/100\n",
      "2499/2499 [==============================] - 1s 332us/step - loss: 0.2925 - acc: 0.8900\n",
      "Epoch 55/100\n",
      "2499/2499 [==============================] - 1s 320us/step - loss: 0.2989 - acc: 0.8900\n",
      "Epoch 56/100\n",
      "2499/2499 [==============================] - 1s 341us/step - loss: 0.2967 - acc: 0.8928\n",
      "Epoch 57/100\n",
      "2499/2499 [==============================] - 1s 318us/step - loss: 0.2961 - acc: 0.8916\n",
      "Epoch 58/100\n",
      "2499/2499 [==============================] - 1s 339us/step - loss: 0.2982 - acc: 0.8828\n",
      "Epoch 59/100\n",
      "2499/2499 [==============================] - 1s 320us/step - loss: 0.2947 - acc: 0.8912\n",
      "Epoch 60/100\n",
      "2499/2499 [==============================] - 1s 320us/step - loss: 0.2967 - acc: 0.8908\n",
      "Epoch 61/100\n",
      "2499/2499 [==============================] - 1s 298us/step - loss: 0.2996 - acc: 0.8872\n",
      "Epoch 62/100\n",
      "2499/2499 [==============================] - 1s 306us/step - loss: 0.2994 - acc: 0.8868\n",
      "Epoch 63/100\n",
      "2499/2499 [==============================] - 1s 297us/step - loss: 0.2952 - acc: 0.8940\n",
      "Epoch 64/100\n",
      "2499/2499 [==============================] - 1s 299us/step - loss: 0.2889 - acc: 0.8900\n",
      "Epoch 65/100\n",
      "2499/2499 [==============================] - 1s 302us/step - loss: 0.2978 - acc: 0.8844\n",
      "Epoch 66/100\n",
      "2499/2499 [==============================] - 1s 295us/step - loss: 0.2959 - acc: 0.8904\n",
      "Epoch 67/100\n",
      "2499/2499 [==============================] - 1s 297us/step - loss: 0.2952 - acc: 0.8896\n",
      "Epoch 68/100\n",
      "2499/2499 [==============================] - 1s 296us/step - loss: 0.3013 - acc: 0.8872\n",
      "Epoch 69/100\n",
      "2499/2499 [==============================] - 1s 295us/step - loss: 0.2892 - acc: 0.8916 0s - loss: 0.2985\n",
      "Epoch 70/100\n",
      "2499/2499 [==============================] - 1s 295us/step - loss: 0.2909 - acc: 0.8884\n",
      "Epoch 71/100\n",
      "2499/2499 [==============================] - 1s 292us/step - loss: 0.3034 - acc: 0.8852\n",
      "Epoch 72/100\n",
      "2499/2499 [==============================] - 1s 311us/step - loss: 0.2935 - acc: 0.8924\n",
      "Epoch 73/100\n",
      "2499/2499 [==============================] - 1s 311us/step - loss: 0.2952 - acc: 0.8856\n",
      "Epoch 74/100\n",
      "2499/2499 [==============================] - 1s 300us/step - loss: 0.2872 - acc: 0.8932\n",
      "Epoch 75/100\n",
      "2499/2499 [==============================] - 1s 299us/step - loss: 0.2887 - acc: 0.8920\n",
      "Epoch 76/100\n"
     ]
    },
    {
     "name": "stdout",
     "output_type": "stream",
     "text": [
      "2499/2499 [==============================] - 1s 313us/step - loss: 0.2990 - acc: 0.8868\n",
      "Epoch 77/100\n",
      "2499/2499 [==============================] - 1s 312us/step - loss: 0.2889 - acc: 0.8920\n",
      "Epoch 78/100\n",
      "2499/2499 [==============================] - 1s 311us/step - loss: 0.2899 - acc: 0.8912\n",
      "Epoch 79/100\n",
      "2499/2499 [==============================] - 1s 291us/step - loss: 0.2936 - acc: 0.8848\n",
      "Epoch 80/100\n",
      "2499/2499 [==============================] - 1s 290us/step - loss: 0.2989 - acc: 0.8868\n",
      "Epoch 81/100\n",
      "2499/2499 [==============================] - 1s 289us/step - loss: 0.2876 - acc: 0.8936\n",
      "Epoch 82/100\n",
      "2499/2499 [==============================] - 1s 305us/step - loss: 0.2843 - acc: 0.8952\n",
      "Epoch 83/100\n",
      "2499/2499 [==============================] - 1s 303us/step - loss: 0.2929 - acc: 0.8900\n",
      "Epoch 84/100\n",
      "2499/2499 [==============================] - 1s 307us/step - loss: 0.2977 - acc: 0.8900\n",
      "Epoch 85/100\n",
      "2499/2499 [==============================] - 1s 302us/step - loss: 0.2834 - acc: 0.8936\n",
      "Epoch 86/100\n",
      "2499/2499 [==============================] - 1s 315us/step - loss: 0.2865 - acc: 0.8904\n",
      "Epoch 87/100\n",
      "2499/2499 [==============================] - 1s 303us/step - loss: 0.2891 - acc: 0.8908\n",
      "Epoch 88/100\n",
      "2499/2499 [==============================] - 1s 302us/step - loss: 0.2858 - acc: 0.8960\n",
      "Epoch 89/100\n",
      "2499/2499 [==============================] - 1s 304us/step - loss: 0.2965 - acc: 0.8892\n",
      "Epoch 90/100\n",
      "2499/2499 [==============================] - 1s 302us/step - loss: 0.2855 - acc: 0.8924\n",
      "Epoch 91/100\n",
      "2499/2499 [==============================] - 1s 305us/step - loss: 0.2919 - acc: 0.8936\n",
      "Epoch 92/100\n",
      "2499/2499 [==============================] - 1s 317us/step - loss: 0.2855 - acc: 0.8936\n",
      "Epoch 93/100\n",
      "2499/2499 [==============================] - 1s 301us/step - loss: 0.2886 - acc: 0.8924\n",
      "Epoch 94/100\n",
      "2499/2499 [==============================] - 1s 314us/step - loss: 0.2849 - acc: 0.8916\n",
      "Epoch 95/100\n",
      "2499/2499 [==============================] - 1s 311us/step - loss: 0.2873 - acc: 0.8940\n",
      "Epoch 96/100\n",
      "2499/2499 [==============================] - 1s 303us/step - loss: 0.2903 - acc: 0.8884\n",
      "Epoch 97/100\n",
      "2499/2499 [==============================] - 1s 301us/step - loss: 0.2862 - acc: 0.8924\n",
      "Epoch 98/100\n",
      "2499/2499 [==============================] - 1s 301us/step - loss: 0.2855 - acc: 0.8952\n",
      "Epoch 99/100\n",
      "2499/2499 [==============================] - 1s 300us/step - loss: 0.2887 - acc: 0.8936\n",
      "Epoch 100/100\n",
      "2499/2499 [==============================] - 1s 311us/step - loss: 0.2820 - acc: 0.8900\n"
     ]
    },
    {
     "data": {
      "text/plain": [
       "<keras.callbacks.History at 0x225fff82400>"
      ]
     },
     "execution_count": 25,
     "metadata": {},
     "output_type": "execute_result"
    }
   ],
   "source": [
    "# Importing the Keras libraries and packages\n",
    "from keras import backend as K\n",
    "K.tensorflow_backend._get_available_gpus() \n",
    "import keras\n",
    "from keras.models import Sequential\n",
    "from keras.layers import Dense\n",
    "\n",
    "# Initialising the ANN\n",
    "classifier = Sequential()\n",
    "\n",
    "# Adding the input layer and the first hidden layer\n",
    "classifier.add(Dense(units = 16, kernel_initializer = 'uniform', activation = 'relu', input_dim = 16))\n",
    "\n",
    "# Adding the second hidden layer\n",
    "classifier.add(Dense(units = 16, kernel_initializer = 'uniform', activation = 'relu'))\n",
    "\n",
    "# Adding the output layer\n",
    "classifier.add(Dense(units = 1, kernel_initializer = 'uniform', activation = 'sigmoid'))\n",
    "\n",
    "# Compiling the ANN\n",
    "classifier.compile(optimizer = 'adam', loss = 'binary_crossentropy', metrics = ['accuracy'])\n",
    "\n",
    "# Fitting the ANN to the Training set\n",
    "classifier.fit(X_train, y_train, batch_size = 10, epochs = 100)"
   ]
  },
  {
   "cell_type": "code",
   "execution_count": 26,
   "metadata": {},
   "outputs": [],
   "source": [
    "# Predicting the Test set results\n",
    "y_pred = classifier.predict(X_test)\n",
    "y_pred = (y_pred > 0.5)"
   ]
  },
  {
   "cell_type": "code",
   "execution_count": 27,
   "metadata": {},
   "outputs": [
    {
     "name": "stdout",
     "output_type": "stream",
     "text": [
      "Confusion matrix:\n",
      " [[709  14]\n",
      " [ 71  40]]\n",
      "\n",
      " Classification report:\n",
      "\n",
      "               precision    recall  f1-score   support\n",
      "\n",
      "           0       0.91      0.98      0.94       723\n",
      "           1       0.74      0.36      0.48       111\n",
      "\n",
      "    accuracy                           0.90       834\n",
      "   macro avg       0.82      0.67      0.71       834\n",
      "weighted avg       0.89      0.90      0.88       834\n",
      "\n"
     ]
    }
   ],
   "source": [
    "# Making the Confusion Matrix and Classification report\n",
    "from sklearn.metrics import confusion_matrix, classification_report\n",
    "cm = confusion_matrix(y_test, y_pred)\n",
    "\n",
    "# Saving the accuracy for Naive Bayes\n",
    "cl = classification_report(y_test, y_pred)\n",
    "list_of_words = cl.split()\n",
    "sum_met.at['accuracy','Keras_ANN'] = list_of_words[list_of_words.index('accuracy') + 1]\n",
    "\n",
    "# Printing the results\n",
    "print('Confusion matrix:\\n',cm)\n",
    "print('\\n','Classification report:\\n\\n',classification_report(y_test, y_pred))"
   ]
  },
  {
   "cell_type": "markdown",
   "metadata": {},
   "source": [
    "Accuracy 90%, not bad at all, but worse then Random Forest as well."
   ]
  },
  {
   "cell_type": "markdown",
   "metadata": {},
   "source": [
    "### Conclusion part"
   ]
  },
  {
   "cell_type": "markdown",
   "metadata": {},
   "source": [
    "For evaluation each model we used confusion matrix and classification report. So let's put all together to see what we've got."
   ]
  },
  {
   "cell_type": "code",
   "execution_count": 28,
   "metadata": {},
   "outputs": [
    {
     "data": {
      "text/html": [
       "<div>\n",
       "<style scoped>\n",
       "    .dataframe tbody tr th:only-of-type {\n",
       "        vertical-align: middle;\n",
       "    }\n",
       "\n",
       "    .dataframe tbody tr th {\n",
       "        vertical-align: top;\n",
       "    }\n",
       "\n",
       "    .dataframe thead th {\n",
       "        text-align: right;\n",
       "    }\n",
       "</style>\n",
       "<table border=\"1\" class=\"dataframe\">\n",
       "  <thead>\n",
       "    <tr style=\"text-align: right;\">\n",
       "      <th></th>\n",
       "      <th>Random_Forest</th>\n",
       "      <th>Naive_Bayes</th>\n",
       "      <th>Keras_ANN</th>\n",
       "    </tr>\n",
       "  </thead>\n",
       "  <tbody>\n",
       "    <tr>\n",
       "      <th>accuracy</th>\n",
       "      <td>0.96</td>\n",
       "      <td>0.88</td>\n",
       "      <td>0.90</td>\n",
       "    </tr>\n",
       "  </tbody>\n",
       "</table>\n",
       "</div>"
      ],
      "text/plain": [
       "         Random_Forest Naive_Bayes Keras_ANN\n",
       "accuracy          0.96        0.88      0.90"
      ]
     },
     "execution_count": 28,
     "metadata": {},
     "output_type": "execute_result"
    }
   ],
   "source": [
    "sum_met"
   ]
  },
  {
   "cell_type": "markdown",
   "metadata": {},
   "source": [
    "So as we can see quite simple and quick algorythm Random Forest showed excellent result."
   ]
  },
  {
   "cell_type": "markdown",
   "metadata": {},
   "source": [
    "### Thanks for watching till the end!"
   ]
  }
 ],
 "metadata": {
  "kernelspec": {
   "display_name": "Python 3",
   "language": "python",
   "name": "python3"
  },
  "language_info": {
   "codemirror_mode": {
    "name": "ipython",
    "version": 3
   },
   "file_extension": ".py",
   "mimetype": "text/x-python",
   "name": "python",
   "nbconvert_exporter": "python",
   "pygments_lexer": "ipython3",
   "version": "3.7.3"
  }
 },
 "nbformat": 4,
 "nbformat_minor": 2
}
